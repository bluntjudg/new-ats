{
  "nbformat": 4,
  "nbformat_minor": 0,
  "metadata": {
    "colab": {
      "provenance": []
    },
    "kernelspec": {
      "name": "python3",
      "display_name": "Python 3"
    },
    "language_info": {
      "name": "python"
    }
  },
  "cells": [
    {
      "cell_type": "code",
      "execution_count": 2,
      "metadata": {
        "colab": {
          "base_uri": "https://localhost:8080/"
        },
        "id": "GuxBHnXokN3H",
        "outputId": "5be64f4a-9084-40d7-d91e-ec71475075da"
      },
      "outputs": [
        {
          "output_type": "stream",
          "name": "stdout",
          "text": [
            "Model trained and saved to 'resume_matcher_model.pkl'\n",
            "Model loaded successfully.\n"
          ]
        }
      ],
      "source": [
        "import pandas as pd\n",
        "from sklearn.model_selection import train_test_split\n",
        "from sklearn.feature_extraction.text import TfidfVectorizer\n",
        "from sklearn.naive_bayes import MultinomialNB\n",
        "from sklearn.preprocessing import LabelEncoder\n",
        "from sklearn.metrics import accuracy_score, classification_report\n",
        "import pickle\n",
        "\n",
        "# --- Step 1: Load and Prepare Your Data ---\n",
        "try:\n",
        "    data = pd.read_csv('resume_data.csv')\n",
        "    if 'Resume' not in data.columns or 'Category' not in data.columns:\n",
        "        raise ValueError(\"CSV file must contain 'Resume' and 'Category' columns.\")\n",
        "except FileNotFoundError:\n",
        "    print(\"Error: 'resume_data.csv' not found. Please make sure the file exists.\")\n",
        "    exit()\n",
        "except ValueError as e:\n",
        "    print(f\"Error loading data: {e}\")\n",
        "    exit()\n",
        "\n",
        "X = data['Resume']  # Resume text\n",
        "y = data['Category']  # Job category\n",
        "\n",
        "# --- Step 2: Convert Categories to Numbers ---\n",
        "label_encoder = LabelEncoder()\n",
        "y_encoded = label_encoder.fit_transform(y)\n",
        "\n",
        "# --- Step 3: Convert Resume Text to Numbers (using TF-IDF) ---\n",
        "tfidf_vectorizer = TfidfVectorizer(stop_words='english')\n",
        "X_tfidf = tfidf_vectorizer.fit_transform(X)\n",
        "\n",
        "# --- Step 4: Train the Machine Learning Model ---\n",
        "model = MultinomialNB()\n",
        "model.fit(X_tfidf, y_encoded)\n",
        "\n",
        "# --- Step 5: Save the Trained Model and Tools ---\n",
        "pickle_filepath = 'resume_matcher_model.pkl'\n",
        "with open(pickle_filepath, 'wb') as file:\n",
        "    pickle.dump({'model': model, 'vectorizer': tfidf_vectorizer, 'label_encoder': label_encoder}, file)\n",
        "\n",
        "print(f\"Model trained and saved to '{pickle_filepath}'\")\n",
        "\n",
        "# --- Step 6: Load the Trained Model and Tools for Prediction ---\n",
        "try:\n",
        "    with open(pickle_filepath, 'rb') as file:\n",
        "        loaded_data = pickle.load(file)\n",
        "        loaded_model = loaded_data['model']\n",
        "        loaded_vectorizer = loaded_data['vectorizer']\n",
        "        loaded_label_encoder = loaded_data['label_encoder']\n",
        "    print(\"Model loaded successfully.\")\n",
        "except FileNotFoundError:\n",
        "    print(f\"Error: '{pickle_filepath}' not found.\")\n",
        "    exit()\n",
        "except Exception as e:\n",
        "    print(f\"Error loading model: {e}\")\n",
        "    exit()\n",
        "\n",
        "# --- Step 7: Get Alignment Score for a New Resume and Category ---\n",
        "def get_alignment_score(resume_text, target_category):\n",
        "    \"\"\"Calculates the alignment score.\"\"\"\n",
        "    processed_text = loaded_vectorizer.transform([resume_text])\n",
        "    try:\n",
        "        category_index = loaded_label_encoder.transform([target_category])[0]\n",
        "        probabilities = loaded_model.predict_proba(processed_text)[0]\n",
        "        alignment_score = probabilities[category_index]\n",
        "        return alignment_score\n",
        "    except ValueError:\n",
        "        print(f\"Error: Category '{target_category}' not found in the trained categories.\")\n",
        "        return None\n",
        "    except Exception as e:\n",
        "        print(f\"Error calculating alignment score: {e}\")\n",
        "        return None\n",
        "\n"
      ]
    },
    {
      "cell_type": "code",
      "source": [],
      "metadata": {
        "id": "H39ZPb22kPgv"
      },
      "execution_count": null,
      "outputs": []
    }
  ]
}